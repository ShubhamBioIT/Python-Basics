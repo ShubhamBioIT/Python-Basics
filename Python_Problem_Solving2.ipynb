{
 "cells": [
  {
   "cell_type": "markdown",
   "id": "3733f451",
   "metadata": {},
   "source": []
  },
  {
   "cell_type": "code",
   "execution_count": 1,
   "id": "26c785ef",
   "metadata": {},
   "outputs": [],
   "source": [
    "import pandas as pd"
   ]
  },
  {
   "cell_type": "code",
   "execution_count": 3,
   "id": "bae5bac9",
   "metadata": {},
   "outputs": [],
   "source": [
    "Df = pd.DataFrame({\"name\" : [], \"Maths\": [], \"Chem\": [], \"IT\": [], \"Science\": []})"
   ]
  },
  {
   "cell_type": "code",
   "execution_count": 4,
   "id": "68326b52",
   "metadata": {},
   "outputs": [
    {
     "name": "stdout",
     "output_type": "stream",
     "text": [
      "Empty DataFrame\n",
      "Columns: [name, Maths, Chem, IT, Science]\n",
      "Index: []\n"
     ]
    }
   ],
   "source": [
    "print(Df)"
   ]
  },
  {
   "cell_type": "code",
   "execution_count": 6,
   "id": "e68169b9",
   "metadata": {},
   "outputs": [],
   "source": [
    "A = [\"Shubh\",10,12,14,22]\n"
   ]
  },
  {
   "cell_type": "code",
   "execution_count": null,
   "id": "7716bfa6",
   "metadata": {},
   "outputs": [
    {
     "ename": "AttributeError",
     "evalue": "type object 'DataFrame' has no attribute 'concat'",
     "output_type": "error",
     "traceback": [
      "\u001b[1;31m---------------------------------------------------------------------------\u001b[0m",
      "\u001b[1;31mAttributeError\u001b[0m                            Traceback (most recent call last)",
      "Cell \u001b[1;32mIn[16], line 1\u001b[0m\n\u001b[1;32m----> 1\u001b[0m Std_mark \u001b[38;5;241m=\u001b[39m \u001b[43mpd\u001b[49m\u001b[38;5;241;43m.\u001b[39;49m\u001b[43mDataFrame\u001b[49m\u001b[38;5;241;43m.\u001b[39;49m\u001b[43mconcat\u001b[49m(Df,A,axis\u001b[38;5;241m=\u001b[39m\u001b[38;5;241m0\u001b[39m)\n",
      "\u001b[1;31mAttributeError\u001b[0m: type object 'DataFrame' has no attribute 'concat'"
     ]
    }
   ],
   "source": [
    "Std_mark = pd.DataFrame.iterrows"
   ]
  },
  {
   "cell_type": "code",
   "execution_count": null,
   "id": "62345fc4",
   "metadata": {},
   "outputs": [
    {
     "ename": "_IncompleteInputError",
     "evalue": "incomplete input (159712899.py, line 1)",
     "output_type": "error",
     "traceback": [
      "\u001b[1;36m  Cell \u001b[1;32mIn[5], line 1\u001b[1;36m\u001b[0m\n\u001b[1;33m    def ReadData():\u001b[0m\n\u001b[1;37m                   ^\u001b[0m\n\u001b[1;31m_IncompleteInputError\u001b[0m\u001b[1;31m:\u001b[0m incomplete input\n"
     ]
    }
   ],
   "source": [
    "def ReadData():\n",
    "    while True:\n",
    "        st_name = input(\"Enter Your Name: \")\n",
    "        if st_name == '':\n",
    "            break\n",
    "        st_maths = int(input('Enter MATHS Marks: '))\n",
    "        st_chem = int(input('Enter CHEMISTRY Marks: '))\n",
    "        st_IT = int(input('Enter IT Marks: '))\n",
    "        st_sci = int(input('Enter SCIENCE Marks: '))\n",
    "        STD_MARKS = pd.DataFrame.__radd__"
   ]
  },
  {
   "cell_type": "code",
   "execution_count": null,
   "id": "f93fd7f3",
   "metadata": {},
   "outputs": [],
   "source": [
    "    "
   ]
  }
 ],
 "metadata": {
  "kernelspec": {
   "display_name": "Python 3",
   "language": "python",
   "name": "python3"
  },
  "language_info": {
   "codemirror_mode": {
    "name": "ipython",
    "version": 3
   },
   "file_extension": ".py",
   "mimetype": "text/x-python",
   "name": "python",
   "nbconvert_exporter": "python",
   "pygments_lexer": "ipython3",
   "version": "3.13.1"
  }
 },
 "nbformat": 4,
 "nbformat_minor": 5
}
