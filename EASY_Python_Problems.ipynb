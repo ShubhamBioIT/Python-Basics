{
 "cells": [
  {
   "cell_type": "markdown",
   "id": "0a00bb38",
   "metadata": {},
   "source": [
    "### 1) Print multiplication table of given number?"
   ]
  },
  {
   "cell_type": "code",
   "execution_count": 2,
   "id": "a38704b6",
   "metadata": {},
   "outputs": [
    {
     "name": "stdout",
     "output_type": "stream",
     "text": [
      "3\n",
      "6\n",
      "9\n",
      "12\n",
      "15\n",
      "18\n",
      "21\n",
      "24\n",
      "27\n",
      "30\n"
     ]
    }
   ],
   "source": [
    "num = int(input(\"Enter your number for multiplication table\"))\n",
    "\n",
    "for i in range(1,11):\n",
    "    print(i*num)"
   ]
  },
  {
   "cell_type": "markdown",
   "id": "3ef644f3",
   "metadata": {},
   "source": [
    "### 2) Given a list iterate it and display numbers which are divisible by 5 and if you find number greater than 150 stop the loop iteration\n"
   ]
  },
  {
   "cell_type": "code",
   "execution_count": 3,
   "id": "d5bf4224",
   "metadata": {},
   "outputs": [],
   "source": [
    "list1 = [12, 15, 32, 42, 55, 75, 122, 132, 150, 180, 200]"
   ]
  },
  {
   "cell_type": "code",
   "execution_count": 4,
   "id": "31741902",
   "metadata": {},
   "outputs": [
    {
     "name": "stdout",
     "output_type": "stream",
     "text": [
      "15\n",
      "55\n",
      "75\n",
      "150\n"
     ]
    }
   ],
   "source": [
    "for i in list1:\n",
    "    if i % 5 == 0 and i <= 150:\n",
    "        print(i)"
   ]
  },
  {
   "cell_type": "markdown",
   "id": "3e07e456",
   "metadata": {},
   "source": [
    "### 3) Display a message “Done” after successful execution of for loop For example, the following loop will execute without any error.\n",
    "\n"
   ]
  },
  {
   "cell_type": "code",
   "execution_count": 5,
   "id": "7af91671",
   "metadata": {},
   "outputs": [
    {
     "name": "stdout",
     "output_type": "stream",
     "text": [
      "0\n",
      "1\n",
      "2\n",
      "3\n",
      "4\n",
      "Done\n"
     ]
    }
   ],
   "source": [
    "for i in range(5):\n",
    "    print(i)\n",
    "print(\"Done\")    \n"
   ]
  },
  {
   "cell_type": "markdown",
   "id": "bce34971",
   "metadata": {},
   "source": [
    "### 5) Use a loop to display elements from a given list which are present at even positions"
   ]
  },
  {
   "cell_type": "code",
   "execution_count": 6,
   "id": "bd114da4",
   "metadata": {},
   "outputs": [],
   "source": [
    "my_list = [10, 20, 30, 40, 50, 60, 70, 80, 90, 100]"
   ]
  },
  {
   "cell_type": "code",
   "execution_count": 7,
   "id": "be54a496",
   "metadata": {},
   "outputs": [
    {
     "name": "stdout",
     "output_type": "stream",
     "text": [
      "20\n",
      "40\n",
      "60\n",
      "80\n",
      "100\n"
     ]
    }
   ],
   "source": [
    "for i,j in enumerate(my_list):\n",
    "    if i % 2 == 1:\n",
    "        print(j)"
   ]
  },
  {
   "cell_type": "markdown",
   "id": "3abf2832",
   "metadata": {},
   "source": [
    "### 6) Display the cube of the number up to a given integer\n",
    "\n"
   ]
  },
  {
   "cell_type": "code",
   "execution_count": 2,
   "id": "8a22ee67",
   "metadata": {},
   "outputs": [
    {
     "name": "stdout",
     "output_type": "stream",
     "text": [
      "Current Number is : 1 and its cube is 1\n",
      "Current Number is : 2 and its cube is 8\n",
      "Current Number is : 3 and its cube is 27\n",
      "Current Number is : 4 and its cube is 64\n",
      "Current Number is : 5 and its cube is 125\n"
     ]
    }
   ],
   "source": [
    "given = int(input(\"Enter the number: \"))\n",
    "\n",
    "for i in range(1,given+1):\n",
    "    print(\"Current Number is :\", i ,\"and its cube is\", i**3)"
   ]
  },
  {
   "cell_type": "markdown",
   "id": "0e13df04",
   "metadata": {},
   "source": [
    "### 7) Find the sum of the series 2 +22 + 222 + 2222 +.. n terms"
   ]
  },
  {
   "cell_type": "code",
   "execution_count": 3,
   "id": "85e7b127",
   "metadata": {},
   "outputs": [
    {
     "name": "stdout",
     "output_type": "stream",
     "text": [
      "246\n"
     ]
    }
   ],
   "source": [
    "n =  int(input(\"Enter a number: \"))\n",
    "listt = []\n",
    "i = 0\n",
    "for j in range(n):\n",
    "    Sum = (i*10)+2\n",
    "    listt.append(Sum)\n",
    "    i = Sum\n",
    "print(sum(listt))"
   ]
  },
  {
   "cell_type": "code",
   "execution_count": 8,
   "id": "0eec1ecd",
   "metadata": {},
   "outputs": [],
   "source": [
    "def calculateSum(value,n):\n",
    "    Sum = 0\n",
    "    a = value\n",
    "    while(n > 0):\n",
    "        Sum += Sum*10 + a\n",
    "        n = n-1\n",
    "    print(Sum)    "
   ]
  },
  {
   "cell_type": "code",
   "execution_count": 9,
   "id": "5696a42a",
   "metadata": {},
   "outputs": [
    {
     "name": "stdout",
     "output_type": "stream",
     "text": [
      "266\n"
     ]
    }
   ],
   "source": [
    "calculateSum(2,3)"
   ]
  },
  {
   "cell_type": "markdown",
   "id": "acc9105c",
   "metadata": {},
   "source": [
    "### 8) Display -10 to -1 using for loop"
   ]
  },
  {
   "cell_type": "code",
   "execution_count": 1,
   "id": "6aff7c0b",
   "metadata": {},
   "outputs": [
    {
     "name": "stdout",
     "output_type": "stream",
     "text": [
      "-10\n",
      "-9\n",
      "-8\n",
      "-7\n",
      "-6\n",
      "-5\n",
      "-4\n",
      "-3\n",
      "-2\n",
      "-1\n"
     ]
    }
   ],
   "source": [
    "\n",
    "for i in range(-10,0):\n",
    "    print(i)"
   ]
  },
  {
   "cell_type": "markdown",
   "id": "0b38452d",
   "metadata": {},
   "source": [
    "### 9) Python program to display all the prime numbers within a range"
   ]
  },
  {
   "cell_type": "code",
   "execution_count": 10,
   "id": "96db58b1",
   "metadata": {},
   "outputs": [
    {
     "name": "stdout",
     "output_type": "stream",
     "text": [
      "1\n",
      "11\n",
      "13\n",
      "17\n",
      "19\n",
      "23\n",
      "29\n",
      "31\n",
      "37\n",
      "41\n",
      "43\n",
      "47\n"
     ]
    }
   ],
   "source": [
    "Start = int(input(\"Enter your lower range:\"))\n",
    "end = int(input(\"Enter your upper range: \"))\n",
    "\n",
    "for i in range(Start,end):\n",
    "    if i % 2 != 0 and i % 3 != 0 and i % 5 != 0 and i % 7 != 0:\n",
    "        print(i)\n"
   ]
  },
  {
   "cell_type": "markdown",
   "id": "d974fd64",
   "metadata": {},
   "source": [
    "### 10) Reverse a given integer number\n"
   ]
  },
  {
   "cell_type": "code",
   "execution_count": 11,
   "id": "3f1652c3",
   "metadata": {},
   "outputs": [
    {
     "name": "stdout",
     "output_type": "stream",
     "text": [
      "24567\n"
     ]
    }
   ],
   "source": [
    "given = 76542\n",
    "given1 = str(given)\n",
    "reverse = given1[::-1]\n",
    "print(int(reverse))"
   ]
  },
  {
   "cell_type": "markdown",
   "id": "71a6fd31",
   "metadata": {},
   "source": [
    "## Thank You : )"
   ]
  }
 ],
 "metadata": {
  "kernelspec": {
   "display_name": "Python 3",
   "language": "python",
   "name": "python3"
  },
  "language_info": {
   "codemirror_mode": {
    "name": "ipython",
    "version": 3
   },
   "file_extension": ".py",
   "mimetype": "text/x-python",
   "name": "python",
   "nbconvert_exporter": "python",
   "pygments_lexer": "ipython3",
   "version": "3.13.1"
  }
 },
 "nbformat": 4,
 "nbformat_minor": 5
}
