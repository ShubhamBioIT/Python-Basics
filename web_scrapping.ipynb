{
 "cells": [
  {
   "cell_type": "markdown",
   "metadata": {},
   "source": [
    "## Request Module in Python"
   ]
  },
  {
   "cell_type": "code",
   "execution_count": 1,
   "metadata": {},
   "outputs": [],
   "source": [
    "import requests"
   ]
  },
  {
   "cell_type": "code",
   "execution_count": 2,
   "metadata": {},
   "outputs": [],
   "source": [
    "url = 'https://www.ibm.com/in-en'\n",
    "r = requests.get(url)"
   ]
  },
  {
   "cell_type": "code",
   "execution_count": 3,
   "metadata": {},
   "outputs": [
    {
     "data": {
      "text/plain": [
       "200"
      ]
     },
     "execution_count": 3,
     "metadata": {},
     "output_type": "execute_result"
    }
   ],
   "source": [
    "r.status_code"
   ]
  },
  {
   "cell_type": "code",
   "execution_count": 4,
   "metadata": {},
   "outputs": [
    {
     "data": {
      "text/plain": [
       "{'User-Agent': 'python-requests/2.32.3', 'Accept-Encoding': 'gzip, deflate', 'Accept': '*/*', 'Connection': 'keep-alive'}"
      ]
     },
     "execution_count": 4,
     "metadata": {},
     "output_type": "execute_result"
    }
   ],
   "source": [
    "r.request.headers"
   ]
  },
  {
   "cell_type": "code",
   "execution_count": 5,
   "metadata": {},
   "outputs": [],
   "source": [
    "r.request.body"
   ]
  },
  {
   "cell_type": "code",
   "execution_count": 6,
   "metadata": {},
   "outputs": [
    {
     "data": {
      "text/plain": [
       "{'Content-Security-Policy': 'upgrade-insecure-requests', 'x-frame-options': 'SAMEORIGIN', 'Last-Modified': 'Sun, 01 Jun 2025 04:29:07 GMT', 'ETag': '\"2b7b0-6367b168e92bd-gzip\"', 'Accept-Ranges': 'bytes', 'Content-Type': 'text/html;charset=utf-8', 'X-Content-Type-Options': 'nosniff', 'Cache-Control': 'max-age=600', 'Expires': 'Sun, 01 Jun 2025 05:39:39 GMT', 'X-Akamai-Transformed': '0 - 0 -', 'Content-Encoding': 'gzip', 'Date': 'Sun, 01 Jun 2025 05:29:39 GMT', 'Content-Length': '30925', 'Connection': 'keep-alive', 'Vary': 'Accept-Encoding', 'Strict-Transport-Security': 'max-age=31536000', 'Set-Cookie': '_abck=B27F031B9E0C8701875199E96DE610C8~-1~YAAQXDkgFwqs38aWAQAAgJH3KQ0hns+3bHnlUtiXTbd1sSApFSVnOCNPUaahF3FKnapi9bu8cdVoUhU4cgeKzwUXfETZD/V8J8rwQv2qbjqv1Mbh/qsWgNp14vWTtyEwI4IhysuSG+aLwSJy9S4s9s1ftyB6AIjqsT5Lc+K5c5AsjSv2HCAJgueLjVlVVcdElfejanpnnR9N0/R/EKHLPzHhH91YfFZzieAnTnlzsj0vTf0IxZff2SMnhdknSZBW2Ab8r6P7a5u+QjPiHH515BBwjg8yOmqTMQeaumFBmOqoxbQlC24XJ/jnjeHBWm+YFBPJABiQkkZsYUlKEny+DH9Palg2o2KQhfGJu0QC7AsqoT7IeTBa0vmte5tvtFmWXx8jEghKlwfi+b9JB4ljpuoR7xzA7sPO0gzyW3K6OZrRa4CG6N1sCknJ9E24hg==~-1~-1~-1; Domain=.ibm.com; Path=/; Expires=Mon, 01 Jun 2026 05:29:39 GMT; Max-Age=31536000; Secure, bm_sz=B6B5CCCB0ABF36BB7BF1DDE4C5DA39DD~YAAQXDkgFwus38aWAQAAgJH3KRt7l4uFYXOt9O6Nw03W8a7C6C8Po73lfgUIKMAa0/An07nOSPX4jggbg24on/qSQFAtlnxLFj20Cqufn8URWx4I/e05uLOdKodV5AjXlkPbzAcjLUZGqgE9RGvLWGgaKLcwgJvNPCTB9S3uBxS7SY12u4+Ots3gAnasHyKedxq3xNNm5CGkfdfE4GVXvMKa4JzF4qzLNbjlHXx6rJnvNauRV6sZGx+mCcNYLmAUeibkl7Iy9J5pOxd6cu6R9faYjuvLu9NcYRFsZxg00NZm0OnYRUSM+0He3USb/porS6vcKbA1zjKcEgM7NvKgjscxzLKNXdw=~3158064~3294257; Domain=.ibm.com; Path=/; Expires=Sun, 01 Jun 2025 09:29:39 GMT; Max-Age=14400'}"
      ]
     },
     "execution_count": 6,
     "metadata": {},
     "output_type": "execute_result"
    }
   ],
   "source": [
    "header = r.headers\n",
    "header"
   ]
  },
  {
   "cell_type": "code",
   "execution_count": 7,
   "metadata": {},
   "outputs": [
    {
     "data": {
      "text/plain": [
       "'Sun, 01 Jun 2025 05:29:39 GMT'"
      ]
     },
     "execution_count": 7,
     "metadata": {},
     "output_type": "execute_result"
    }
   ],
   "source": [
    "header['date']"
   ]
  },
  {
   "cell_type": "code",
   "execution_count": 8,
   "metadata": {},
   "outputs": [
    {
     "data": {
      "text/plain": [
       "'text/html;charset=utf-8'"
      ]
     },
     "execution_count": 8,
     "metadata": {},
     "output_type": "execute_result"
    }
   ],
   "source": [
    "header['Content-Type']"
   ]
  },
  {
   "cell_type": "code",
   "execution_count": 9,
   "metadata": {},
   "outputs": [
    {
     "data": {
      "text/plain": [
       "'utf-8'"
      ]
     },
     "execution_count": 9,
     "metadata": {},
     "output_type": "execute_result"
    }
   ],
   "source": [
    "r.encoding"
   ]
  },
  {
   "cell_type": "code",
   "execution_count": 10,
   "metadata": {},
   "outputs": [
    {
     "data": {
      "text/plain": [
       "'\\n<!DOCTYPE HTML>\\n<html lang=\"en\">\\n<head>\\r\\n    \\r\\n    \\r\\n    \\r\\n    \\r\\n    \\r\\n    \\r\\n    \\r\\n      \\r\\n    \\r\\n  '"
      ]
     },
     "execution_count": 10,
     "metadata": {},
     "output_type": "execute_result"
    }
   ],
   "source": [
    "r.text[0:100]"
   ]
  },
  {
   "cell_type": "markdown",
   "metadata": {},
   "source": [
    "### Get Request with url parameters"
   ]
  },
  {
   "cell_type": "code",
   "execution_count": 11,
   "metadata": {},
   "outputs": [
    {
     "data": {
      "text/plain": [
       "'http://httpbin.org/?Name=Shubzz&ID=143'"
      ]
     },
     "execution_count": 11,
     "metadata": {},
     "output_type": "execute_result"
    }
   ],
   "source": [
    "url_get = 'http://httpbin.org/'\n",
    "payload = {\"Name\":\"Shubzz\",\"ID\": 143}\n",
    "R = requests.get(url_get,params=payload)\n",
    "R.url"
   ]
  },
  {
   "cell_type": "code",
   "execution_count": 12,
   "metadata": {},
   "outputs": [
    {
     "data": {
      "text/plain": [
       "'<!DOCTYPE html>\\n<html lang=\"en\">\\n\\n<head>\\n    <meta charset=\"UTF-8\">\\n    <title>httpbin.org</title>\\n    <link href=\"https://fonts.googleapis.com/css?family=Open+Sans:400,700|Source+Code+Pro:300,600|Titillium+Web:400,600,700\"\\n        rel=\"stylesheet\">\\n    <link rel=\"stylesheet\" type=\"text/css\" href=\"/flasgger_static/swagger-ui.css\">\\n    <link rel=\"icon\" type=\"image/png\" href=\"/static/favicon.ico\" sizes=\"64x64 32x32 16x16\" />\\n    <style>\\n        html {\\n            box-sizing: border-box;\\n            overflow: -moz-scrollbars-vertical;\\n            overflow-y: scroll;\\n        }\\n\\n        *,\\n        *:before,\\n        *:after {\\n            box-sizing: inherit;\\n        }\\n\\n        body {\\n            margin: 0;\\n            background: #fafafa;\\n        }\\n    </style>\\n</head>\\n\\n<body>\\n    <a href=\"https://github.com/requests/httpbin\" class=\"github-corner\" aria-label=\"View source on Github\">\\n        <svg width=\"80\" height=\"80\" viewBox=\"0 0 250 250\" style=\"fill:#151513; color:#fff; position: absolute; top: 0; border: 0; right: 0;\"\\n            aria-hidden=\"true\">\\n            <path d=\"M0,0 L115,115 L130,115 L142,142 L250,250 L250,0 Z\"></path>\\n            <path d=\"M128.3,109.0 C113.8,99.7 119.0,89.6 119.0,89.6 C122.0,82.7 120.5,78.6 120.5,78.6 C119.2,72.0 123.4,76.3 123.4,76.3 C127.3,80.9 125.5,87.3 125.5,87.3 C122.9,97.6 130.6,101.9 134.4,103.2\"\\n                fill=\"currentColor\" style=\"transform-origin: 130px 106px;\" class=\"octo-arm\"></path>\\n            <path d=\"M115.0,115.0 C114.9,115.1 118.7,116.5 119.8,115.4 L133.7,101.6 C136.9,99.2 139.9,98.4 142.2,98.6 C133.8,88.0 127.5,74.4 143.8,58.0 C148.5,53.4 154.0,51.2 159.7,51.0 C160.3,49.4 163.2,43.6 171.4,40.1 C171.4,40.1 176.1,42.5 178.8,56.2 C183.1,58.6 187.2,61.8 190.9,65.4 C194.5,69.0 197.7,73.2 200.1,77.6 C213.8,80.2 216.3,84.9 216.3,84.9 C212.7,93.1 206.9,96.0 205.4,96.6 C205.1,102.4 203.0,107.8 198.3,112.5 C181.9,128.9 168.3,122.5 157.7,114.1 C157.9,116.9 156.7,120.9 152.7,124.9 L141.0,136.5 C139.8,137.7 141.6,141.9 141.8,141.8 Z\"\\n                fill=\"currentColor\" class=\"octo-body\"></path>\\n        </svg>\\n    </a>\\n    <svg xmlns=\"http://www.w3.org/2000/svg\" xmlns:xlink=\"http://www.w3.org/1999/xlink\" style=\"position:absolute;width:0;height:0\">\\n        <defs>\\n            <symbol viewBox=\"0 0 20 20\" id=\"unlocked\">\\n                <path d=\"M15.8 8H14V5.6C14 2.703 12.665 1 10 1 7.334 1 6 2.703 6 5.6V6h2v-.801C8 3.754 8.797 3 10 3c1.203 0 2 .754 2 2.199V8H4c-.553 0-1 .646-1 1.199V17c0 .549.428 1.139.951 1.307l1.197.387C5.672 18.861 6.55 19 7.1 19h5.8c.549 0 1.428-.139 1.951-.307l1.196-.387c.524-.167.953-.757.953-1.306V9.199C17 8.646 16.352 8 15.8 8z\"></path>\\n            </symbol>\\n\\n            <symbol viewBox=\"0 0 20 20\" id=\"locked\">\\n                <path d=\"M15.8 8H14V5.6C14 2.703 12.665 1 10 1 7.334 1 6 2.703 6 5.6V8H4c-.553 0-1 .646-1 1.199V17c0 .549.428 1.139.951 1.307l1.197.387C5.672 18.861 6.55 19 7.1 19h5.8c.549 0 1.428-.139 1.951-.307l1.196-.387c.524-.167.953-.757.953-1.306V9.199C17 8.646 16.352 8 15.8 8zM12 8H8V5.199C8 3.754 8.797 3 10 3c1.203 0 2 .754 2 2.199V8z\"\\n                />\\n            </symbol>\\n\\n            <symbol viewBox=\"0 0 20 20\" id=\"close\">\\n                <path d=\"M14.348 14.849c-.469.469-1.229.469-1.697 0L10 11.819l-2.651 3.029c-.469.469-1.229.469-1.697 0-.469-.469-.469-1.229 0-1.697l2.758-3.15-2.759-3.152c-.469-.469-.469-1.228 0-1.697.469-.469 1.228-.469 1.697 0L10 8.183l2.651-3.031c.469-.469 1.228-.469 1.697 0 .469.469.469 1.229 0 1.697l-2.758 3.152 2.758 3.15c.469.469.469 1.229 0 1.698z\"\\n                />\\n            </symbol>\\n\\n            <symbol viewBox=\"0 0 20 20\" id=\"large-arrow\">\\n                <path d=\"M13.25 10L6.109 2.58c-.268-.27-.268-.707 0-.979.268-.27.701-.27.969 0l7.83 7.908c.268.271.268.709 0 .979l-7.83 7.908c-.268.271-.701.27-.969 0-.268-.269-.268-.707 0-.979L13.25 10z\"\\n                />\\n            </symbol>\\n\\n            <symbol viewBox=\"0 0 20 20\" id=\"large-arrow-down\">\\n                <path d=\"M17.418 6.109c.272-.268.709-.268.979 0s.271.701 0 .969l-7.908 7.83c-.27.268-.707.268-.979 0l-7.908-7.83c-.27-.268-.27-.701 0-.969.271-.268.709-.268.979 0L10 13.25l7.418-7.141z\"\\n                />\\n            </symbol>\\n\\n\\n            <symbol viewBox=\"0 0 24 24\" id=\"jump-to\">\\n                <path d=\"M19 7v4H5.83l3.58-3.59L8 6l-6 6 6 6 1.41-1.41L5.83 13H21V7z\" />\\n            </symbol>\\n\\n            <symbol viewBox=\"0 0 24 24\" id=\"expand\">\\n                <path d=\"M10 18h4v-2h-4v2zM3 6v2h18V6H3zm3 7h12v-2H6v2z\" />\\n            </symbol>\\n\\n        </defs>\\n    </svg>\\n\\n\\n    <div id=\"swagger-ui\">\\n        <div data-reactroot=\"\" class=\"swagger-ui\">\\n            <div>\\n                <div class=\"information-container wrapper\">\\n                    <section class=\"block col-12\">\\n                        <div class=\"info\">\\n                            <hgroup class=\"main\">\\n                                <h2 class=\"title\">httpbin.org\\n                                    <small>\\n                                        <pre class=\"version\">0.9.2</pre>\\n                                    </small>\\n                                </h2>\\n                                <pre class=\"base-url\">[ Base URL: httpbin.org/ ]</pre>\\n                            </hgroup>\\n                            <div class=\"description\">\\n                                <div class=\"markdown\">\\n                                    <p>A simple HTTP Request &amp; Response Service.\\n                                        <br>\\n                                        <br>\\n                                        <b>Run locally: </b>\\n                                        <code>$ docker run -p 80:80 kennethreitz/httpbin</code>\\n                                    </p>\\n                                </div>\\n                            </div>\\n                            <div>\\n                                <div>\\n                                    <a href=\"https://kennethreitz.org\" target=\"_blank\">the developer - Website</a>\\n                                </div>\\n                                <a href=\"mailto:me@kennethreitz.org\">Send email to the developer</a>\\n                            </div>\\n                        </div>\\n                        <!-- ADDS THE LOADER SPINNER -->\\n                        <div class=\"loading-container\">\\n                            <div class=\"loading\"></div>\\n                        </div>\\n\\n                    </section>\\n                </div>\\n            </div>\\n        </div>\\n    </div>\\n\\n\\n    <div class=\\'swagger-ui\\'>\\n        <div class=\"wrapper\">\\n            <section class=\"clear\">\\n                <span style=\"float: right;\">\\n                    [Powered by\\n                    <a target=\"_blank\" href=\"https://github.com/rochacbruno/flasgger\">Flasgger</a>]\\n                    <br>\\n                </span>\\n            </section>\\n        </div>\\n    </div>\\n\\n\\n\\n    <script src=\"/flasgger_static/swagger-ui-bundle.js\"> </script>\\n    <script src=\"/flasgger_static/swagger-ui-standalone-preset.js\"> </script>\\n    <script src=\\'/flasgger_static/lib/jquery.min.js\\' type=\\'text/javascript\\'></script>\\n    <script>\\n\\n        window.onload = function () {\\n            \\n\\n            fetch(\"/spec.json\")\\n                .then(function (response) {\\n                    response.json()\\n                        .then(function (json) {\\n                            var current_protocol = window.location.protocol.slice(0, -1);\\n                            if (json.schemes[0] != current_protocol) {\\n                                // Switches scheme to the current in use\\n                                var other_protocol = json.schemes[0];\\n                                json.schemes[0] = current_protocol;\\n                                json.schemes[1] = other_protocol;\\n\\n                            }\\n                            json.host = window.location.host;  // sets the current host\\n\\n                            const ui = SwaggerUIBundle({\\n                                spec: json,\\n                                validatorUrl: null,\\n                                dom_id: \\'#swagger-ui\\',\\n                                deepLinking: true,\\n                                jsonEditor: true,\\n                                docExpansion: \"none\",\\n                                apisSorter: \"alpha\",\\n                                //operationsSorter: \"alpha\",\\n                                presets: [\\n                                    SwaggerUIBundle.presets.apis,\\n                                    // yay ES6 modules ↘\\n                                    Array.isArray(SwaggerUIStandalonePreset) ? SwaggerUIStandalonePreset : SwaggerUIStandalonePreset.default\\n                                ],\\n                                plugins: [\\n                                    SwaggerUIBundle.plugins.DownloadUrl\\n                                ],\\n            \\n            // layout: \"StandaloneLayout\"  // uncomment to enable the green top header\\n        })\\n\\n        window.ui = ui\\n\\n        // uncomment to rename the top brand if layout is enabled\\n        // $(\".topbar-wrapper .link span\").replaceWith(\"<span>httpbin</span>\");\\n        })\\n    })\\n}\\n    </script>  <div class=\\'swagger-ui\\'>\\n    <div class=\"wrapper\">\\n        <section class=\"block col-12 block-desktop col-12-desktop\">\\n            <div>\\n\\n                <h2>Other Utilities</h2>\\n\\n                <ul>\\n                    <li>\\n                        <a href=\"/forms/post\">HTML form</a> that posts to /post /forms/post</li>\\n                </ul>\\n\\n                <br />\\n                <br />\\n            </div>\\n        </section>\\n    </div>\\n</div>\\n</body>\\n\\n</html>'"
      ]
     },
     "execution_count": 12,
     "metadata": {},
     "output_type": "execute_result"
    }
   ],
   "source": [
    "R.text"
   ]
  },
  {
   "cell_type": "code",
   "execution_count": 13,
   "metadata": {},
   "outputs": [
    {
     "data": {
      "text/plain": [
       "'text/html; charset=utf-8'"
      ]
     },
     "execution_count": 13,
     "metadata": {},
     "output_type": "execute_result"
    }
   ],
   "source": [
    "R.headers['Content-Type']"
   ]
  },
  {
   "cell_type": "markdown",
   "metadata": {},
   "source": [
    "## Random User and Fruityvice API Examples"
   ]
  },
  {
   "cell_type": "code",
   "execution_count": 14,
   "metadata": {},
   "outputs": [],
   "source": [
    "from randomuser import RandomUser\n",
    "import pandas as pd"
   ]
  },
  {
   "cell_type": "code",
   "execution_count": 15,
   "metadata": {},
   "outputs": [],
   "source": [
    "rr = RandomUser()"
   ]
  },
  {
   "cell_type": "code",
   "execution_count": 16,
   "metadata": {},
   "outputs": [
    {
     "name": "stdout",
     "output_type": "stream",
     "text": [
      "[<randomuser.RandomUser object at 0x000002512060E490>, <randomuser.RandomUser object at 0x000002512060EAD0>, <randomuser.RandomUser object at 0x000002512061DBA0>, <randomuser.RandomUser object at 0x000002512061DCD0>, <randomuser.RandomUser object at 0x00000251206B8050>, <randomuser.RandomUser object at 0x000002510840BBD0>, <randomuser.RandomUser object at 0x000002512063C6B0>, <randomuser.RandomUser object at 0x00000251080D2B50>, <randomuser.RandomUser object at 0x0000025120641C50>, <randomuser.RandomUser object at 0x00000251080932F0>]\n"
     ]
    }
   ],
   "source": [
    "some_list = rr.generate_users(10)\n",
    "print(some_list)"
   ]
  },
  {
   "cell_type": "code",
   "execution_count": 21,
   "metadata": {},
   "outputs": [
    {
     "data": {
      "text/plain": [
       "'Hervé Rodriguez'"
      ]
     },
     "execution_count": 21,
     "metadata": {},
     "output_type": "execute_result"
    }
   ],
   "source": [
    "name = rr.get_full_name()\n",
    "name"
   ]
  },
  {
   "cell_type": "code",
   "execution_count": 11,
   "metadata": {},
   "outputs": [
    {
     "name": "stdout",
     "output_type": "stream",
     "text": [
      "Fletcher Patel   fletcher.patel@example.com\n",
      "Maurus Duval   maurus.duval@example.com\n",
      "Mauritânia Santos   mauritania.santos@example.com\n",
      "Léandro Berger   leandro.berger@example.com\n",
      "Miguel Velasco   miguel.velasco@example.com\n",
      "Ans Gijsbertsen   ans.gijsbertsen@example.com\n",
      "Ceyhun Topaloğlu   ceyhun.topaloglu@example.com\n",
      "Aurora Alonso   aurora.alonso@example.com\n",
      "Wanda Taylor   wanda.taylor@example.com\n",
      "Jaafar Van Renswoude   jaafar.vanrenswoude@example.com\n"
     ]
    }
   ],
   "source": [
    "for user in some_list:\n",
    "    print (user.get_full_name(),\" \",user.get_email())"
   ]
  },
  {
   "cell_type": "code",
   "execution_count": 12,
   "metadata": {},
   "outputs": [
    {
     "name": "stdout",
     "output_type": "stream",
     "text": [
      "https://randomuser.me/api/portraits/men/67.jpg\n",
      "https://randomuser.me/api/portraits/men/1.jpg\n",
      "https://randomuser.me/api/portraits/women/77.jpg\n",
      "https://randomuser.me/api/portraits/men/0.jpg\n",
      "https://randomuser.me/api/portraits/men/86.jpg\n",
      "https://randomuser.me/api/portraits/women/59.jpg\n",
      "https://randomuser.me/api/portraits/men/84.jpg\n",
      "https://randomuser.me/api/portraits/women/71.jpg\n",
      "https://randomuser.me/api/portraits/women/8.jpg\n",
      "https://randomuser.me/api/portraits/men/14.jpg\n"
     ]
    }
   ],
   "source": [
    "for user in some_list:\n",
    "    print (user.get_picture())"
   ]
  },
  {
   "cell_type": "markdown",
   "metadata": {},
   "source": [
    "#### To generate a table with information about the users, we can write a function containing all desirable parameters. For example, name, gender, city, etc. The parameters will depend on the requirements of the test to be performed. We call the Get Methods, listed at the beginning of this notebook. Then, we return pandas dataframe with the users."
   ]
  },
  {
   "cell_type": "code",
   "execution_count": 13,
   "metadata": {},
   "outputs": [],
   "source": [
    "def get_users():\n",
    "    users =[]\n",
    "     \n",
    "    for user in RandomUser.generate_users(10):\n",
    "        users.append({\"Name\":user.get_full_name(),\"Gender\":user.get_gender(),\"City\":user.get_city(),\"State\":user.get_state(),\"Email\":user.get_email(), \"DOB\":user.get_dob(),\"Picture\":user.get_picture()})\n",
    "      \n",
    "    return pd.DataFrame(users)     "
   ]
  },
  {
   "cell_type": "code",
   "execution_count": 14,
   "metadata": {},
   "outputs": [
    {
     "data": {
      "text/html": [
       "<div>\n",
       "<style scoped>\n",
       "    .dataframe tbody tr th:only-of-type {\n",
       "        vertical-align: middle;\n",
       "    }\n",
       "\n",
       "    .dataframe tbody tr th {\n",
       "        vertical-align: top;\n",
       "    }\n",
       "\n",
       "    .dataframe thead th {\n",
       "        text-align: right;\n",
       "    }\n",
       "</style>\n",
       "<table border=\"1\" class=\"dataframe\">\n",
       "  <thead>\n",
       "    <tr style=\"text-align: right;\">\n",
       "      <th></th>\n",
       "      <th>Name</th>\n",
       "      <th>Gender</th>\n",
       "      <th>City</th>\n",
       "      <th>State</th>\n",
       "      <th>Email</th>\n",
       "      <th>DOB</th>\n",
       "      <th>Picture</th>\n",
       "    </tr>\n",
       "  </thead>\n",
       "  <tbody>\n",
       "    <tr>\n",
       "      <th>0</th>\n",
       "      <td>Elizabeth Williams</td>\n",
       "      <td>female</td>\n",
       "      <td>Tralee</td>\n",
       "      <td>Wicklow</td>\n",
       "      <td>elizabeth.williams@example.com</td>\n",
       "      <td>1983-01-04T13:33:14.743Z</td>\n",
       "      <td>https://randomuser.me/api/portraits/women/30.jpg</td>\n",
       "    </tr>\n",
       "    <tr>\n",
       "      <th>1</th>\n",
       "      <td>Ismail Blix</td>\n",
       "      <td>male</td>\n",
       "      <td>Hasvik</td>\n",
       "      <td>Nordland</td>\n",
       "      <td>ismail.blix@example.com</td>\n",
       "      <td>1956-07-26T13:47:07.039Z</td>\n",
       "      <td>https://randomuser.me/api/portraits/men/67.jpg</td>\n",
       "    </tr>\n",
       "    <tr>\n",
       "      <th>2</th>\n",
       "      <td>Rémy Lecomte</td>\n",
       "      <td>male</td>\n",
       "      <td>Grenoble</td>\n",
       "      <td>Eure</td>\n",
       "      <td>remy.lecomte@example.com</td>\n",
       "      <td>1975-04-16T14:34:39.309Z</td>\n",
       "      <td>https://randomuser.me/api/portraits/men/20.jpg</td>\n",
       "    </tr>\n",
       "    <tr>\n",
       "      <th>3</th>\n",
       "      <td>Jano Krebs</td>\n",
       "      <td>male</td>\n",
       "      <td>Lauter-Bernsbach</td>\n",
       "      <td>Sachsen-Anhalt</td>\n",
       "      <td>jano.krebs@example.com</td>\n",
       "      <td>1996-07-05T21:10:11.452Z</td>\n",
       "      <td>https://randomuser.me/api/portraits/men/78.jpg</td>\n",
       "    </tr>\n",
       "    <tr>\n",
       "      <th>4</th>\n",
       "      <td>Isabelle Taylor</td>\n",
       "      <td>female</td>\n",
       "      <td>Carrigtwohill</td>\n",
       "      <td>Dún Laoghaire–Rathdown</td>\n",
       "      <td>isabelle.taylor@example.com</td>\n",
       "      <td>1975-05-13T06:53:44.185Z</td>\n",
       "      <td>https://randomuser.me/api/portraits/women/78.jpg</td>\n",
       "    </tr>\n",
       "    <tr>\n",
       "      <th>5</th>\n",
       "      <td>Cathy Davies</td>\n",
       "      <td>female</td>\n",
       "      <td>Swansea</td>\n",
       "      <td>Derbyshire</td>\n",
       "      <td>cathy.davies@example.com</td>\n",
       "      <td>1962-06-30T01:00:40.947Z</td>\n",
       "      <td>https://randomuser.me/api/portraits/women/81.jpg</td>\n",
       "    </tr>\n",
       "    <tr>\n",
       "      <th>6</th>\n",
       "      <td>Liz Onstein</td>\n",
       "      <td>female</td>\n",
       "      <td>Harlingen</td>\n",
       "      <td>Limburg</td>\n",
       "      <td>liz.onstein@example.com</td>\n",
       "      <td>1973-06-09T09:38:21.600Z</td>\n",
       "      <td>https://randomuser.me/api/portraits/women/0.jpg</td>\n",
       "    </tr>\n",
       "    <tr>\n",
       "      <th>7</th>\n",
       "      <td>Macit Akan</td>\n",
       "      <td>male</td>\n",
       "      <td>Eskişehir</td>\n",
       "      <td>Kırşehir</td>\n",
       "      <td>macit.akan@example.com</td>\n",
       "      <td>1950-04-19T18:01:47.802Z</td>\n",
       "      <td>https://randomuser.me/api/portraits/men/99.jpg</td>\n",
       "    </tr>\n",
       "    <tr>\n",
       "      <th>8</th>\n",
       "      <td>Ege Poyrazoğlu</td>\n",
       "      <td>male</td>\n",
       "      <td>Mersin</td>\n",
       "      <td>Kırşehir</td>\n",
       "      <td>ege.poyrazoglu@example.com</td>\n",
       "      <td>1978-09-15T13:05:57.642Z</td>\n",
       "      <td>https://randomuser.me/api/portraits/men/66.jpg</td>\n",
       "    </tr>\n",
       "    <tr>\n",
       "      <th>9</th>\n",
       "      <td>Gail Jensen</td>\n",
       "      <td>female</td>\n",
       "      <td>Richmond</td>\n",
       "      <td>Idaho</td>\n",
       "      <td>gail.jensen@example.com</td>\n",
       "      <td>1963-08-26T07:30:28.475Z</td>\n",
       "      <td>https://randomuser.me/api/portraits/women/15.jpg</td>\n",
       "    </tr>\n",
       "  </tbody>\n",
       "</table>\n",
       "</div>"
      ],
      "text/plain": [
       "                 Name  Gender              City                   State  \\\n",
       "0  Elizabeth Williams  female            Tralee                 Wicklow   \n",
       "1         Ismail Blix    male            Hasvik                Nordland   \n",
       "2        Rémy Lecomte    male          Grenoble                    Eure   \n",
       "3          Jano Krebs    male  Lauter-Bernsbach          Sachsen-Anhalt   \n",
       "4     Isabelle Taylor  female     Carrigtwohill  Dún Laoghaire–Rathdown   \n",
       "5        Cathy Davies  female           Swansea              Derbyshire   \n",
       "6         Liz Onstein  female         Harlingen                 Limburg   \n",
       "7          Macit Akan    male         Eskişehir                Kırşehir   \n",
       "8      Ege Poyrazoğlu    male            Mersin                Kırşehir   \n",
       "9         Gail Jensen  female          Richmond                   Idaho   \n",
       "\n",
       "                            Email                       DOB  \\\n",
       "0  elizabeth.williams@example.com  1983-01-04T13:33:14.743Z   \n",
       "1         ismail.blix@example.com  1956-07-26T13:47:07.039Z   \n",
       "2        remy.lecomte@example.com  1975-04-16T14:34:39.309Z   \n",
       "3          jano.krebs@example.com  1996-07-05T21:10:11.452Z   \n",
       "4     isabelle.taylor@example.com  1975-05-13T06:53:44.185Z   \n",
       "5        cathy.davies@example.com  1962-06-30T01:00:40.947Z   \n",
       "6         liz.onstein@example.com  1973-06-09T09:38:21.600Z   \n",
       "7          macit.akan@example.com  1950-04-19T18:01:47.802Z   \n",
       "8      ege.poyrazoglu@example.com  1978-09-15T13:05:57.642Z   \n",
       "9         gail.jensen@example.com  1963-08-26T07:30:28.475Z   \n",
       "\n",
       "                                            Picture  \n",
       "0  https://randomuser.me/api/portraits/women/30.jpg  \n",
       "1    https://randomuser.me/api/portraits/men/67.jpg  \n",
       "2    https://randomuser.me/api/portraits/men/20.jpg  \n",
       "3    https://randomuser.me/api/portraits/men/78.jpg  \n",
       "4  https://randomuser.me/api/portraits/women/78.jpg  \n",
       "5  https://randomuser.me/api/portraits/women/81.jpg  \n",
       "6   https://randomuser.me/api/portraits/women/0.jpg  \n",
       "7    https://randomuser.me/api/portraits/men/99.jpg  \n",
       "8    https://randomuser.me/api/portraits/men/66.jpg  \n",
       "9  https://randomuser.me/api/portraits/women/15.jpg  "
      ]
     },
     "execution_count": 14,
     "metadata": {},
     "output_type": "execute_result"
    }
   ],
   "source": [
    "get_users()"
   ]
  },
  {
   "cell_type": "code",
   "execution_count": 15,
   "metadata": {},
   "outputs": [
    {
     "data": {
      "text/html": [
       "<div>\n",
       "<style scoped>\n",
       "    .dataframe tbody tr th:only-of-type {\n",
       "        vertical-align: middle;\n",
       "    }\n",
       "\n",
       "    .dataframe tbody tr th {\n",
       "        vertical-align: top;\n",
       "    }\n",
       "\n",
       "    .dataframe thead th {\n",
       "        text-align: right;\n",
       "    }\n",
       "</style>\n",
       "<table border=\"1\" class=\"dataframe\">\n",
       "  <thead>\n",
       "    <tr style=\"text-align: right;\">\n",
       "      <th></th>\n",
       "      <th>Name</th>\n",
       "      <th>Gender</th>\n",
       "      <th>City</th>\n",
       "      <th>State</th>\n",
       "      <th>Email</th>\n",
       "      <th>DOB</th>\n",
       "      <th>Picture</th>\n",
       "    </tr>\n",
       "  </thead>\n",
       "  <tbody>\n",
       "    <tr>\n",
       "      <th>0</th>\n",
       "      <td>Enrico Chevalier</td>\n",
       "      <td>male</td>\n",
       "      <td>Hendschiken</td>\n",
       "      <td>Genève</td>\n",
       "      <td>enrico.chevalier@example.com</td>\n",
       "      <td>1969-11-10T13:20:46.931Z</td>\n",
       "      <td>https://randomuser.me/api/portraits/men/29.jpg</td>\n",
       "    </tr>\n",
       "    <tr>\n",
       "      <th>1</th>\n",
       "      <td>Perry Garrett</td>\n",
       "      <td>male</td>\n",
       "      <td>Skerries</td>\n",
       "      <td>Sligo</td>\n",
       "      <td>perry.garrett@example.com</td>\n",
       "      <td>1948-02-09T07:00:06.592Z</td>\n",
       "      <td>https://randomuser.me/api/portraits/men/6.jpg</td>\n",
       "    </tr>\n",
       "    <tr>\n",
       "      <th>2</th>\n",
       "      <td>Ege Doğan</td>\n",
       "      <td>male</td>\n",
       "      <td>Hatay</td>\n",
       "      <td>Kırıkkale</td>\n",
       "      <td>ege.dogan@example.com</td>\n",
       "      <td>1991-11-05T00:22:26.022Z</td>\n",
       "      <td>https://randomuser.me/api/portraits/men/83.jpg</td>\n",
       "    </tr>\n",
       "    <tr>\n",
       "      <th>3</th>\n",
       "      <td>Addison Ambrose</td>\n",
       "      <td>female</td>\n",
       "      <td>Shelbourne</td>\n",
       "      <td>Nova Scotia</td>\n",
       "      <td>addison.ambrose@example.com</td>\n",
       "      <td>1994-10-15T13:07:17.544Z</td>\n",
       "      <td>https://randomuser.me/api/portraits/women/16.jpg</td>\n",
       "    </tr>\n",
       "    <tr>\n",
       "      <th>4</th>\n",
       "      <td>Julia Smith</td>\n",
       "      <td>female</td>\n",
       "      <td>Cochrane</td>\n",
       "      <td>New Brunswick</td>\n",
       "      <td>julia.smith@example.com</td>\n",
       "      <td>1946-03-10T07:56:10.288Z</td>\n",
       "      <td>https://randomuser.me/api/portraits/women/77.jpg</td>\n",
       "    </tr>\n",
       "    <tr>\n",
       "      <th>5</th>\n",
       "      <td>Hanne Ramautar</td>\n",
       "      <td>male</td>\n",
       "      <td>Geesteren Ov</td>\n",
       "      <td>Groningen</td>\n",
       "      <td>hanne.ramautar@example.com</td>\n",
       "      <td>1989-03-24T14:26:14.828Z</td>\n",
       "      <td>https://randomuser.me/api/portraits/men/78.jpg</td>\n",
       "    </tr>\n",
       "    <tr>\n",
       "      <th>6</th>\n",
       "      <td>Umut Dalkıran</td>\n",
       "      <td>male</td>\n",
       "      <td>Kırşehir</td>\n",
       "      <td>Siirt</td>\n",
       "      <td>umut.dalkiran@example.com</td>\n",
       "      <td>1961-06-30T01:41:37.731Z</td>\n",
       "      <td>https://randomuser.me/api/portraits/men/65.jpg</td>\n",
       "    </tr>\n",
       "    <tr>\n",
       "      <th>7</th>\n",
       "      <td>Jorge Legrand</td>\n",
       "      <td>male</td>\n",
       "      <td>Vaux-sur-Morges</td>\n",
       "      <td>Neuchâtel</td>\n",
       "      <td>jorge.legrand@example.com</td>\n",
       "      <td>1978-07-24T04:30:43.183Z</td>\n",
       "      <td>https://randomuser.me/api/portraits/men/94.jpg</td>\n",
       "    </tr>\n",
       "    <tr>\n",
       "      <th>8</th>\n",
       "      <td>Cooper Roberts</td>\n",
       "      <td>male</td>\n",
       "      <td>Nelson</td>\n",
       "      <td>Waikato</td>\n",
       "      <td>cooper.roberts@example.com</td>\n",
       "      <td>1990-07-30T13:41:30.986Z</td>\n",
       "      <td>https://randomuser.me/api/portraits/men/81.jpg</td>\n",
       "    </tr>\n",
       "    <tr>\n",
       "      <th>9</th>\n",
       "      <td>Francis Craig</td>\n",
       "      <td>male</td>\n",
       "      <td>Manchester</td>\n",
       "      <td>Dyfed</td>\n",
       "      <td>francis.craig@example.com</td>\n",
       "      <td>1977-02-06T11:51:24.849Z</td>\n",
       "      <td>https://randomuser.me/api/portraits/men/76.jpg</td>\n",
       "    </tr>\n",
       "  </tbody>\n",
       "</table>\n",
       "</div>"
      ],
      "text/plain": [
       "               Name  Gender             City          State  \\\n",
       "0  Enrico Chevalier    male      Hendschiken         Genève   \n",
       "1     Perry Garrett    male         Skerries          Sligo   \n",
       "2         Ege Doğan    male            Hatay      Kırıkkale   \n",
       "3   Addison Ambrose  female       Shelbourne    Nova Scotia   \n",
       "4       Julia Smith  female         Cochrane  New Brunswick   \n",
       "5    Hanne Ramautar    male     Geesteren Ov      Groningen   \n",
       "6     Umut Dalkıran    male         Kırşehir          Siirt   \n",
       "7     Jorge Legrand    male  Vaux-sur-Morges      Neuchâtel   \n",
       "8    Cooper Roberts    male           Nelson        Waikato   \n",
       "9     Francis Craig    male       Manchester          Dyfed   \n",
       "\n",
       "                          Email                       DOB  \\\n",
       "0  enrico.chevalier@example.com  1969-11-10T13:20:46.931Z   \n",
       "1     perry.garrett@example.com  1948-02-09T07:00:06.592Z   \n",
       "2         ege.dogan@example.com  1991-11-05T00:22:26.022Z   \n",
       "3   addison.ambrose@example.com  1994-10-15T13:07:17.544Z   \n",
       "4       julia.smith@example.com  1946-03-10T07:56:10.288Z   \n",
       "5    hanne.ramautar@example.com  1989-03-24T14:26:14.828Z   \n",
       "6     umut.dalkiran@example.com  1961-06-30T01:41:37.731Z   \n",
       "7     jorge.legrand@example.com  1978-07-24T04:30:43.183Z   \n",
       "8    cooper.roberts@example.com  1990-07-30T13:41:30.986Z   \n",
       "9     francis.craig@example.com  1977-02-06T11:51:24.849Z   \n",
       "\n",
       "                                            Picture  \n",
       "0    https://randomuser.me/api/portraits/men/29.jpg  \n",
       "1     https://randomuser.me/api/portraits/men/6.jpg  \n",
       "2    https://randomuser.me/api/portraits/men/83.jpg  \n",
       "3  https://randomuser.me/api/portraits/women/16.jpg  \n",
       "4  https://randomuser.me/api/portraits/women/77.jpg  \n",
       "5    https://randomuser.me/api/portraits/men/78.jpg  \n",
       "6    https://randomuser.me/api/portraits/men/65.jpg  \n",
       "7    https://randomuser.me/api/portraits/men/94.jpg  \n",
       "8    https://randomuser.me/api/portraits/men/81.jpg  \n",
       "9    https://randomuser.me/api/portraits/men/76.jpg  "
      ]
     },
     "execution_count": 15,
     "metadata": {},
     "output_type": "execute_result"
    }
   ],
   "source": [
    "df1 = pd.DataFrame(get_users()) \n",
    "df1"
   ]
  },
  {
   "cell_type": "markdown",
   "metadata": {},
   "source": [
    "## WEB SCRAPPING"
   ]
  },
  {
   "cell_type": "markdown",
   "metadata": {},
   "source": [
    "#### 1) BeautifulSoup"
   ]
  },
  {
   "cell_type": "code",
   "execution_count": 22,
   "metadata": {},
   "outputs": [],
   "source": [
    "from bs4 import BeautifulSoup\n",
    "import requests"
   ]
  },
  {
   "cell_type": "code",
   "execution_count": 23,
   "metadata": {},
   "outputs": [
    {
     "name": "stdout",
     "output_type": "stream",
     "text": [
      "<!DOCTYPE html>\n",
      "\n",
      "<html>\n",
      "<head>\n",
      "<title>Example Domain</title>\n",
      "<meta charset=\"utf-8\"/>\n",
      "<meta content=\"text/html; charset=utf-8\" http-equiv=\"Content-type\"/>\n",
      "<meta content=\"width=device-width, initial-scale=1\" name=\"viewport\"/>\n",
      "<style type=\"text/css\">\n",
      "    body {\n",
      "        background-color: #f0f0f2;\n",
      "        margin: 0;\n",
      "        padding: 0;\n",
      "        font-family: -apple-system, system-ui, BlinkMacSystemFont, \"Segoe UI\", \"Open Sans\", \"Helvetica Neue\", Helvetica, Arial, sans-serif;\n",
      "        \n",
      "    }\n",
      "    div {\n",
      "        width: 600px;\n",
      "        margin: 5em auto;\n",
      "        padding: 2em;\n",
      "        background-color: #fdfdff;\n",
      "        border-radius: 0.5em;\n",
      "        box-shadow: 2px 3px 7px 2px rgba(0,0,0,0.02);\n",
      "    }\n",
      "    a:link, a:visited {\n",
      "        color: #38488f;\n",
      "        text-decoration: none;\n",
      "    }\n",
      "    @media (max-width: 700px) {\n",
      "        div {\n",
      "            margin: 0 auto;\n",
      "            width: auto;\n",
      "        }\n",
      "    }\n",
      "    </style>\n",
      "</head>\n",
      "<body>\n",
      "<div>\n",
      "<h1>Example Domain</h1>\n",
      "<p>This domain is for use in illustrative examples in documents. You may use this\n",
      "    domain in literature without prior coordination or asking for permission.</p>\n",
      "<p><a href=\"https://www.iana.org/domains/example\">More information...</a></p>\n",
      "</div>\n",
      "</body>\n",
      "</html>\n",
      "\n"
     ]
    }
   ],
   "source": [
    "URL = \"http://www.example.com\"\n",
    "page = requests.get(URL)\n",
    "soup = BeautifulSoup(page.content, \"html.parser\")\n",
    "print(soup)"
   ]
  },
  {
   "cell_type": "markdown",
   "metadata": {},
   "source": [
    "### 2) Scrapy"
   ]
  },
  {
   "cell_type": "code",
   "execution_count": 5,
   "metadata": {},
   "outputs": [],
   "source": [
    "import scrapy\n",
    "class QuotesSpider(scrapy.Spider):\n",
    "    name = \"quotes\"\n",
    "    start_urls = ['http://quotes.toscrape.com/tag/humor/',]\n",
    "    def parse(self, response):\n",
    "        for quote in response.css('div.quote'):\n",
    "            yield {'quote': quote.css('span.text::text').get()}"
   ]
  },
  {
   "cell_type": "markdown",
   "metadata": {},
   "source": [
    "### WEB SCRAPPING using PANDAS"
   ]
  },
  {
   "cell_type": "code",
   "execution_count": 6,
   "metadata": {},
   "outputs": [
    {
     "name": "stdout",
     "output_type": "stream",
     "text": [
      "    Rank                                Bank name  \\\n",
      "0      1  Industrial and Commercial Bank of China   \n",
      "1      2               Agricultural Bank of China   \n",
      "2      3                  China Construction Bank   \n",
      "3      4                            Bank of China   \n",
      "4      5                           JPMorgan Chase   \n",
      "..   ...                                      ...   \n",
      "95    96                            Handelsbanken   \n",
      "96    97                 Industrial Bank of Korea   \n",
      "97    98                                      DNB   \n",
      "98    99                      Qatar National Bank   \n",
      "99   100                                 VTB Bank   \n",
      "\n",
      "    Total assets (2023) (US$ billion)  \n",
      "0                             6303.44  \n",
      "1                             5623.12  \n",
      "2                             5400.28  \n",
      "3                             4578.28  \n",
      "4                             3875.39  \n",
      "..                                ...  \n",
      "95                             351.79  \n",
      "96                             345.81  \n",
      "97                             339.21  \n",
      "98                             338.14  \n",
      "99                             326.85  \n",
      "\n",
      "[100 rows x 3 columns]\n"
     ]
    }
   ],
   "source": [
    "import pandas as pd\n",
    "URL = 'https://en.wikipedia.org/wiki/List_of_largest_banks'\n",
    "tables = pd.read_html(URL)\n",
    "df = tables[0]\n",
    "print(df)"
   ]
  },
  {
   "cell_type": "code",
   "execution_count": 25,
   "metadata": {},
   "outputs": [
    {
     "name": "stdout",
     "output_type": "stream",
     "text": [
      "    Country/Territory IMF[1][12]            World Bank[13]             \\\n",
      "    Country/Territory   Forecast       Year       Estimate       Year   \n",
      "0               World  113795678       2025      105435540       2023   \n",
      "1       United States   30507217       2025       27360935       2023   \n",
      "2               China   19231705  [n 1]2025       17794782  [n 3]2023   \n",
      "3             Germany    4744804       2025        4456081       2023   \n",
      "4               India    4187017       2025        3549919       2023   \n",
      "..                ...        ...        ...            ...        ...   \n",
      "205             Palau        333       2025            263       2023   \n",
      "206          Kiribati        312       2025            279       2023   \n",
      "207  Marshall Islands        297       2025            284       2023   \n",
      "208             Nauru        169       2025            154       2023   \n",
      "209            Tuvalu         65       2025             62       2023   \n",
      "\n",
      "    United Nations[14]             \n",
      "              Estimate       Year  \n",
      "0            100834796       2022  \n",
      "1             25744100       2022  \n",
      "2             17963170  [n 1]2022  \n",
      "3              4076923       2022  \n",
      "4              3465541       2022  \n",
      "..                 ...        ...  \n",
      "205                225       2022  \n",
      "206                223       2022  \n",
      "207                279       2022  \n",
      "208                147       2022  \n",
      "209                 59       2022  \n",
      "\n",
      "[210 rows x 7 columns]\n"
     ]
    }
   ],
   "source": [
    "URL = 'https://en.wikipedia.org/wiki/List_of_countries_by_GDP_(nominal)'\n",
    "tables = pd.read_html(URL)\n",
    "df = tables[2] # the required table will have index 2\n",
    "print(df)"
   ]
  },
  {
   "cell_type": "code",
   "execution_count": 12,
   "metadata": {},
   "outputs": [
    {
     "name": "stdout",
     "output_type": "stream",
     "text": [
      "[                                                   0\n",
      "0  Largest economies in the world by GDP (nominal...,                                                    0  \\\n",
      "0  > $20 trillion $10–20 trillion $5–10 trillion ...   \n",
      "\n",
      "                                                   1  \\\n",
      "0  $750 billion – $1 trillion $500–750 billion $2...   \n",
      "\n",
      "                                                   2  \n",
      "0  $50–100 billion $25–50 billion $5–25 billion <...  ,     Country/Territory IMF[1][12]            World Bank[13]             \\\n",
      "    Country/Territory   Forecast       Year       Estimate       Year   \n",
      "0               World  115494312       2025      105435540       2023   \n",
      "1       United States   30338000       2025       27360935       2023   \n",
      "2               China   19535000  [n 1]2025       17794782  [n 3]2023   \n",
      "3             Germany    4922000       2025        4456081       2023   \n",
      "4               Japan    4390000       2025        4212945       2023   \n",
      "..                ...        ...        ...            ...        ...   \n",
      "205          Kiribati        311       2024            279       2023   \n",
      "206             Palau        308       2024            263       2023   \n",
      "207  Marshall Islands        305       2024            284       2023   \n",
      "208             Nauru        161       2024            154       2023   \n",
      "209            Tuvalu         66       2024             62       2023   \n",
      "\n",
      "    United Nations[14]             \n",
      "              Estimate       Year  \n",
      "0            100834796       2022  \n",
      "1             25744100       2022  \n",
      "2             17963170  [n 1]2022  \n",
      "3              4076923       2022  \n",
      "4              4232173       2022  \n",
      "..                 ...        ...  \n",
      "205                223       2022  \n",
      "206                225       2022  \n",
      "207                279       2022  \n",
      "208                147       2022  \n",
      "209                 59       2022  \n",
      "\n",
      "[210 rows x 7 columns],          vteLists of countries by financial rankings  \\\n",
      "0                                              Trade   \n",
      "1                                         Investment   \n",
      "2                                              Funds   \n",
      "3                                    Budget and debt   \n",
      "4                                   Income and taxes   \n",
      "5                                         Bank rates   \n",
      "6                                           Currency   \n",
      "7                                              Other   \n",
      "8  Lists of countries by GDP rankings List of int...   \n",
      "\n",
      "       vteLists of countries by financial rankings.1  \n",
      "0  Account balance % of GDP Exports by product me...  \n",
      "1                   FDI received past FDI abroad GFI  \n",
      "2  Forex reserves Gold reserves Sovereign wealth ...  \n",
      "3  Government budget PPP % of GDP per capita Cred...  \n",
      "4  Wage average Disposable minimum Wage growth GN...  \n",
      "5  Central bank interest rate Commercial bank pri...  \n",
      "6                                     Inflation rate  \n",
      "7  Financial Development Index Average annual lab...  \n",
      "8  Lists of countries by GDP rankings List of int...  ,                vteLists of countries by GDP rankings  \\\n",
      "0                                            Nominal   \n",
      "1                      Purchasing power parity (PPP)   \n",
      "2                                         Per capita   \n",
      "3                                         GDP growth   \n",
      "4                        Gross national income (GNI)   \n",
      "5                                Countries by region   \n",
      "6                              Subnational divisions   \n",
      "7  Lists of countries by financial rankings List ...   \n",
      "\n",
      "             vteLists of countries by GDP rankings.1  \n",
      "0  GDP (nominal) Past and projected Sector compos...  \n",
      "1  GDP (PPP) Past Past and projected Ten largest ...  \n",
      "2  nominal GDP Past and projected GDP (PPP) by re...  \n",
      "3  real GDP growth rate African countries Asian s...  \n",
      "4  PPP per capita Nominal per capita Real income ...  \n",
      "5  Africa PPP nominal Commonwealth of Nations PPP...  \n",
      "6  Albania Argentina Armenia Australia Austria Ba...  \n",
      "7  Lists of countries by financial rankings List ...  ,               vteEconomic classification of countries  \\\n",
      "0   Developed country Developing country Heavily i...   \n",
      "1                              Three/Four-World Model   \n",
      "2                        Gross domestic product (GDP)   \n",
      "3                                             Nominal   \n",
      "4                       Purchasing power parity (PPP)   \n",
      "5                                              Income   \n",
      "6                                               Wages   \n",
      "7                                              Wealth   \n",
      "8                             Other national accounts   \n",
      "9                                   Human development   \n",
      "10                                     Digital divide   \n",
      "11       Net international investment position (NIIP)   \n",
      "12                     Economics portal  World portal   \n",
      "\n",
      "            vteEconomic classification of countries.1  \n",
      "0   Developed country Developing country Heavily i...  \n",
      "1   First World Second World Third World Fourth World  \n",
      "2   Nominal By country past and projected per capi...  \n",
      "3   By country past and projected per capita per c...  \n",
      "4   By country future estimates per capita per cap...  \n",
      "5   GNI (nominal) per capita GNI (PPP) per capita ...  \n",
      "6   Average wage Europe Employee compensation (per...  \n",
      "7   Wealth per adult Europe Financial assets per c...  \n",
      "8   Gross National Happiness Net material product ...  \n",
      "9   Human Development Index by country inequality-...  \n",
      "10  ICT Development Index Number of broadband Inte...  \n",
      "11        Per capita (creditors) Per capita (debtors)  \n",
      "12                     Economics portal  World portal  ,                                0  \\\n",
      "0                        Nominal   \n",
      "1  Purchasing power parity (PPP)   \n",
      "\n",
      "                                                   1  \n",
      "0  By country past and projected per capita per c...  \n",
      "1  By country future estimates per capita per cap...  ]\n"
     ]
    }
   ],
   "source": [
    "print(tables)"
   ]
  }
 ],
 "metadata": {
  "kernelspec": {
   "display_name": "Python 3",
   "language": "python",
   "name": "python3"
  },
  "language_info": {
   "codemirror_mode": {
    "name": "ipython",
    "version": 3
   },
   "file_extension": ".py",
   "mimetype": "text/x-python",
   "name": "python",
   "nbconvert_exporter": "python",
   "pygments_lexer": "ipython3",
   "version": "3.13.1"
  }
 },
 "nbformat": 4,
 "nbformat_minor": 2
}
